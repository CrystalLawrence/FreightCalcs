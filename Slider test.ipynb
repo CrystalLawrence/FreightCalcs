{
    "tags": [
        "hide_input",
    ]
}
{
 "cells": [
  {
   "cell_type": "code",
   "execution_count": 332,
   "metadata": {},
   "outputs": [],
   "source": [
    "#nbi hide-in\n",
    "from __future__ import print_function\n",
    "from ipywidgets import interact, interactive, fixed, interact_manual\n",
    "import ipywidgets as widgets"
   ]
  },
  {
   "cell_type": "code",
   "execution_count": 333,
   "metadata": {},
   "outputs": [],
   "source": [
    "#nbi hide-in\n",
    "'global variables'\n",
    "speed=15\n",
    "FOE=0.525\n",
    "HHV=22.5\n",
    "hhv=22.5\n",
    "costBOG=7"
   ]
  },
  {
   "cell_type": "code",
   "execution_count": 334,
   "metadata": {},
   "outputs": [],
   "source": [
    "#nbi hide-in\n",
    "class vsl:\n",
    "    def __init__(self, name, capacity, loadLimit, minHeel, ladenNBO, ballastNBO,ladenCurve, ballastCurve):\n",
    "        self.name=name\n",
    "        self.loadm3=capacity*loadLimit-minHeel\n",
    "        \n",
    "        'fuel curve consumption in MMBtu/day'\n",
    "        self.ladenFuel=ladenCurve[speed]*HHV/FOE\n",
    "        self.ballastFuel=ballastCurve[speed]*HHV/FOE\n",
    "\n",
    "        'NBO consumption in MMBtu/day'\n",
    "        self.ladenNBO=ladenNBO*HHV*capacity\n",
    "        self.ballastNBO=ballastNBO*HHV*capacity    \n",
    "        \n",
    "        'BOG consumption in MMBtu/day'\n",
    "        self.ladenBOG=round(max(self.ladenFuel,self.ladenNBO),2)\n",
    "        self.ballastBOG=round(max(self.ballastFuel,self.ladenNBO),2)\n",
    "\n",
    "    def __repr__(self):\n",
    "        return self.name\n",
    "\n",
    "    def description(self):\n",
    "        return \"The {} has load capacity {} m3 and consumes {} MMBtu/day\".format(self.name, self.loadm3, self.ladenBOG)"
   ]
  },
  {
   "cell_type": "code",
   "execution_count": 335,
   "metadata": {},
   "outputs": [],
   "source": [
    "#nbi hide-in\n",
    "'Vsl Attributes'\n",
    "\n",
    "MTvsl=vsl(name='MTvsl',\n",
    "          capacity=174000,\n",
    "          loadLimit=0.985,\n",
    "          minHeel=500,\n",
    "          ladenNBO=0.04/100,\n",
    "          ballastNBO=0.03/100,\n",
    "          ladenCurve={13:70, 13.5:71, 14:72, 14.5:72.5,15.0: 73},\n",
    "          ballastCurve={13:70, 13.5:71, 14:72, 14.5:72.5,15.0: 73})\n",
    "\n",
    "LTvsl=vsl(name='LTvsl',\n",
    "          capacity=174000,\n",
    "          loadLimit=0.985,\n",
    "          minHeel=500,\n",
    "          ladenNBO=0.04/100,\n",
    "          ballastNBO=0.03/100,\n",
    "          ladenCurve={13:80, 13.5:81, 14:82, 14.5:82.5,15.0: 83},\n",
    "          ballastCurve={13:80, 13.5:81, 14:82, 14.5:82.5,15.0: 83})"
   ]
  },
  {
   "cell_type": "code",
   "execution_count": 336,
   "metadata": {},
   "outputs": [
    {
     "name": "stdout",
     "output_type": "stream",
     "text": [
      "At 15knots, \n",
      "The LTvsl has load capacity 170890.0 m3 and consumes 3557.14 MMBtu/day\n",
      "The MTvsl has load capacity 170890.0 m3 and consumes 3128.57 MMBtu/day\n"
     ]
    }
   ],
   "source": [
    "print(\"At \"+str(speed)+\"knots, \")\n",
    "print(LTvsl.description())\n",
    "print(MTvsl.description())"
   ]
  },
  {
   "cell_type": "code",
   "execution_count": 337,
   "metadata": {},
   "outputs": [],
   "source": [
    "#nbi hide-in\n",
    "def f(distance,speed,charter,vsl):\n",
    "    days=round(distance/speed/24,1)\n",
    "\n",
    "    loadm3=vsl.loadm3\n",
    "    ballastBOG=vsl.ballastBOG\n",
    "    ladenBOG=vsl.ladenBOG\n",
    "        \n",
    "    loadMMBtu=loadm3*HHV\n",
    "    bogMMBtu=ballastBOG*days+ladenBOG*days\n",
    "    dischargeMMBtu=loadMMBtu-bogMMBtu\n",
    "    bogMln=costBOG*bogMMBtu\n",
    "    \n",
    "    charterMln=charter*days*2\n",
    "    \n",
    "    ufc=(charterMln+bogMln)/loadMMBtu\n",
    "    \n",
    "    print(\"voyage is \"+str(days)+\" days\")\n",
    "    print(\"ufc is \"+str(ufc)+\" $/MMBtu\")\n",
    "    print(\"vsl is \"+str(vsl)+' consumption is '+str(ballastBOG))"
   ]
  },
  {
   "cell_type": "code",
   "execution_count": 338,
   "metadata": {},
   "outputs": [
    {
     "data": {
      "application/vnd.jupyter.widget-view+json": {
       "model_id": "caafecfe22064f96b0982f182df10b6c",
       "version_major": 2,
       "version_minor": 0
      },
      "text/plain": [
       "interactive(children=(IntSlider(value=6000, description='distance', max=12000), IntSlider(value=17, descriptio…"
      ]
     },
     "metadata": {},
     "output_type": "display_data"
    }
   ],
   "source": [
    "#nbi hide-in\n",
    "o = interact(f,vsl=[MTvsl,LTvsl],distance=(0,12000),speed=(13,21),charter=(0,200000))"
   ]
  },
  {
   "cell_type": "code",
   "execution_count": null,
   "metadata": {},
   "outputs": [],
   "source": []
  },
  {
   "cell_type": "code",
   "execution_count": null,
   "metadata": {},
   "outputs": [],
   "source": []
  }
 ],
 "metadata": {
  "kernelspec": {
   "display_name": "Python 3",
   "language": "python",
   "name": "python3"
  },
  "language_info": {
   "codemirror_mode": {
    "name": "ipython",
    "version": 3
   },
   "file_extension": ".py",
   "mimetype": "text/x-python",
   "name": "python",
   "nbconvert_exporter": "python",
   "pygments_lexer": "ipython3",
   "version": "3.6.6"
  }
 },
 "nbformat": 4,
 "nbformat_minor": 2
}
